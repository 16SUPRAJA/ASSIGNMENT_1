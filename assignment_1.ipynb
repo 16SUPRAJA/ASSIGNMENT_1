{
 "cells": [
  {
   "cell_type": "markdown",
   "id": "403d752d",
   "metadata": {},
   "source": [
    "## 1. In the below elements which of them are values or an expression? eg:- values can be integer or string and expressions will be mathematical operators.\n"
   ]
  },
  {
   "cell_type": "markdown",
   "id": "0c6568af",
   "metadata": {},
   "source": [
    "'hello',-87.8,6   -  value\n",
    "*, -, /,.         -  expression\n",
    "\n"
   ]
  },
  {
   "cell_type": "markdown",
   "id": "a82e5108",
   "metadata": {},
   "source": [
    "## 2. What is the difference between string and variable?\n"
   ]
  },
  {
   "cell_type": "markdown",
   "id": "37061ac2",
   "metadata": {},
   "source": [
    "Any value which is enclosed in single or double quotes is said to be string, generally it is sequence of characters(symbols and numbers are also included).\n",
    "A variable is a thing which holds any data value, it is the memory location of the value can be reused and be updated according to the requirement.It bears values of string, integer, boolean etc."
   ]
  },
  {
   "cell_type": "markdown",
   "id": "ee06a35c",
   "metadata": {},
   "source": [
    "## 3. Describe three different data types."
   ]
  },
  {
   "cell_type": "markdown",
   "id": "3be14c44",
   "metadata": {},
   "source": [
    "Integer (int)  -  It is a numeric data type used to store numbers (not fractions). \n",
    "String (str or text)  -  It is a set of characters enclosed in single or double quotes.\n",
    "Boolean (bool) - It has only two values True(1) and False(0)."
   ]
  },
  {
   "cell_type": "markdown",
   "id": "b9fd4838",
   "metadata": {},
   "source": [
    "##  4. What is an expression made up of? What do all expressions do?\n"
   ]
  },
  {
   "cell_type": "markdown",
   "id": "de7be400",
   "metadata": {},
   "source": [
    "An expression is a combination of operators and operands that is to another value(varaiable). It performs operations in a prioritised manner and shows result. "
   ]
  },
  {
   "cell_type": "markdown",
   "id": "00b7e06e",
   "metadata": {},
   "source": [
    "## 5. This assignment statements, like spam = 10. What is the difference between an expression and a statement?\n"
   ]
  },
  {
   "cell_type": "markdown",
   "id": "a1eb8088",
   "metadata": {},
   "source": [
    "Statement is a command which is executed directly but expression is a mixture of operations and operands."
   ]
  },
  {
   "cell_type": "markdown",
   "id": "bec028cb",
   "metadata": {},
   "source": [
    "## 6. After running the following code, what does the variable bacon contain?\n",
    "bacon = 22\n",
    "bacon + 1\n",
    "\n"
   ]
  },
  {
   "cell_type": "code",
   "execution_count": 3,
   "id": "b0585272",
   "metadata": {},
   "outputs": [],
   "source": [
    "bacon = 22"
   ]
  },
  {
   "cell_type": "code",
   "execution_count": 4,
   "id": "67dd83be",
   "metadata": {},
   "outputs": [
    {
     "data": {
      "text/plain": [
       "23"
      ]
     },
     "execution_count": 4,
     "metadata": {},
     "output_type": "execute_result"
    }
   ],
   "source": [
    "bacon+1"
   ]
  },
  {
   "cell_type": "markdown",
   "id": "b0bb74a7",
   "metadata": {},
   "source": [
    "## 7. What should the values of the following two terms be?\n",
    "'spam' + 'spamspam'\n",
    "'spam' * 3\n",
    "\n"
   ]
  },
  {
   "cell_type": "code",
   "execution_count": 5,
   "id": "4c2c2fb9",
   "metadata": {},
   "outputs": [
    {
     "data": {
      "text/plain": [
       "'spamspamspam'"
      ]
     },
     "execution_count": 5,
     "metadata": {},
     "output_type": "execute_result"
    }
   ],
   "source": [
    "'spam' + 'spamspam'"
   ]
  },
  {
   "cell_type": "code",
   "execution_count": 6,
   "id": "048e5fec",
   "metadata": {},
   "outputs": [
    {
     "data": {
      "text/plain": [
       "'spamspamspam'"
      ]
     },
     "execution_count": 6,
     "metadata": {},
     "output_type": "execute_result"
    }
   ],
   "source": [
    "'spam' * 3"
   ]
  },
  {
   "cell_type": "markdown",
   "id": "becd3901",
   "metadata": {},
   "source": [
    "## 8. Why is eggs a valid variable name while 100 is invalid?\n"
   ]
  },
  {
   "cell_type": "markdown",
   "id": "3b33e53a",
   "metadata": {},
   "source": [
    "Integers cannot be used as variables, there should be atleast one alphabet in begining of the variable."
   ]
  },
  {
   "cell_type": "markdown",
   "id": "a758b843",
   "metadata": {},
   "source": [
    "##  9. What three functions can be used to get the integer, floating-point number, or string version of a value?\n"
   ]
  },
  {
   "cell_type": "markdown",
   "id": "263f3c77",
   "metadata": {},
   "source": [
    "int(), float(),str()"
   ]
  },
  {
   "cell_type": "markdown",
   "id": "db0d4911",
   "metadata": {},
   "source": [
    "## 10. Why does this expression cause an error? How can you fix it?\n",
    "'I have eaten ' + 99 + ' burritos.'\n"
   ]
  },
  {
   "cell_type": "code",
   "execution_count": 7,
   "id": "0e69870f",
   "metadata": {},
   "outputs": [
    {
     "ename": "TypeError",
     "evalue": "can only concatenate str (not \"int\") to str",
     "output_type": "error",
     "traceback": [
      "\u001b[1;31m---------------------------------------------------------------------------\u001b[0m",
      "\u001b[1;31mTypeError\u001b[0m                                 Traceback (most recent call last)",
      "\u001b[1;32m<ipython-input-7-d24137131a5c>\u001b[0m in \u001b[0;36m<module>\u001b[1;34m\u001b[0m\n\u001b[1;32m----> 1\u001b[1;33m \u001b[1;34m'I have eaten '\u001b[0m \u001b[1;33m+\u001b[0m \u001b[1;36m99\u001b[0m \u001b[1;33m+\u001b[0m \u001b[1;34m' burritos.'\u001b[0m\u001b[1;33m\u001b[0m\u001b[1;33m\u001b[0m\u001b[0m\n\u001b[0m",
      "\u001b[1;31mTypeError\u001b[0m: can only concatenate str (not \"int\") to str"
     ]
    }
   ],
   "source": [
    "'I have eaten ' + 99 + ' burritos.'"
   ]
  },
  {
   "cell_type": "code",
   "execution_count": 8,
   "id": "6744ca50",
   "metadata": {},
   "outputs": [
    {
     "data": {
      "text/plain": [
       "'I have eaten 99 burritos.'"
      ]
     },
     "execution_count": 8,
     "metadata": {},
     "output_type": "execute_result"
    }
   ],
   "source": [
    "'I have eaten ' + '99' + ' burritos.'"
   ]
  },
  {
   "cell_type": "markdown",
   "id": "475473bb",
   "metadata": {},
   "source": [
    "here we did typecasting to fix the error"
   ]
  }
 ],
 "metadata": {
  "kernelspec": {
   "display_name": "Python 3",
   "language": "python",
   "name": "python3"
  },
  "language_info": {
   "codemirror_mode": {
    "name": "ipython",
    "version": 3
   },
   "file_extension": ".py",
   "mimetype": "text/x-python",
   "name": "python",
   "nbconvert_exporter": "python",
   "pygments_lexer": "ipython3",
   "version": "3.8.8"
  }
 },
 "nbformat": 4,
 "nbformat_minor": 5
}
